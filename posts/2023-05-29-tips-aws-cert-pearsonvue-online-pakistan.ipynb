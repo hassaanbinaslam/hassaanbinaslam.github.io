{
 "cells": [
  {
   "cell_type": "raw",
   "metadata": {},
   "source": [
    "---\n",
    "title: Tips to Register for an AWS Certification Exam with Pearson VUE from Pakistan\n",
    "description: This blog post provides essential tips for individuals in Pakistan facing challenges with AWS certification exam registration through Pearson VUE. It outlines workarounds for the payment limitations, guides readers through the registration process, and offers insights to successfully navigate the system, ensuring a smooth experience.\n",
    "date: '2023-05-29'\n",
    "image: images/2023-05-29-tips-aws-cert-pearsonvue-online-pakistan.jpeg\n",
    "output-file: 2023-05-29-tips-aws-cert-pearsonvue-online-pakistan\n",
    "toc: true\n",
    "\n",
    "categories:\n",
    "- aws\n",
    "\n",
    "keyword:\n",
    "- aws\n",
    "- cert\n",
    "- certification\n",
    "- exam\n",
    "- pearson\n",
    "- pearson vue\n",
    "- pakistan\n",
    "- payment\n",
    "- error\n",
    "\n",
    "---"
   ]
  },
  {
   "attachments": {},
   "cell_type": "markdown",
   "metadata": {},
   "source": [
    "![image source: https://openart.ai/discovery/sd-1006914875638960178](images/2023-05-29-tips-aws-cert-pearsonvue-online-pakistan.jpeg)"
   ]
  },
  {
   "attachments": {},
   "cell_type": "markdown",
   "metadata": {},
   "source": [
    "# Introduction\n",
    "\n",
    "Embarking on the journey to achieve AWS certification can be an exciting opportunity for professionals in Pakistan. However, recent changes in the way exams are conducted have introduced some challenges for exam takers in the country. Previously, there were multiple options available for registering for the exam, including a more flexible choice called [PSI](https://www.psiexams.com/). But now, AWS has shifted to using only [Pearson VUE](https://home.pearsonvue.com/) as the test delivery provider, which has stricter rules. One significant issue that has emerged is the inability to make exam payments using cards from Pakistan. This poses a problem for individuals trying to register for their exams. Having recently encountered this obstacle during my own AWS certification exam, I feel compelled to share some helpful tips for fellow candidates to navigate the registration process.\n",
    "\n",
    "::: {.callout-important}\n",
    "\n",
    "It's important to note that the main issue lies with *Pearson VUE's payment method*, which currently *does not accept card payments from Pakistan*. However, *if you have a voucher that covers the entire exam fee, you can bypass this problem and easily register for your exam.*\n",
    "\n",
    ":::"
   ]
  },
  {
   "attachments": {},
   "cell_type": "markdown",
   "metadata": {},
   "source": [
    "## Challenges with Pearson VUE Exam Registration\n",
    "Navigating the exam registration process with Pearson VUE can present some difficulties. When you reach the checkout page, you will encounter a few crucial steps that might pose obstacles:\n",
    "\n",
    "1. **Payment Method Selection**: Pearson VUE requires you to choose a payment method, such as VISA, MasterCard, or American Express, for paying the exam fees.\n",
    "\n",
    "2. **Vouchers and Promotion Codes**: You have the option to apply any vouchers or promotion codes you may have. If you have a voucher that covers the full exam fee, it will be deducted automatically, and you can proceed with registration without any issues.\n",
    "\n",
    "3. **Entering Payment and Billing Information**: You need to provide accurate payment and billing information that matches the details associated with your selected payment method.\n",
    "\n",
    "However, the problem arises when you click 'Next' to move forward. At this point, Pearson VUE displays an error message stating, `The credit card payment option is not available for this order. If you need additional information, please contact customer service.` This error leaves you stuck and unable to proceed with the registration process.\n",
    "\n",
    "![](images/2023-05-29-tips-aws-cert-pearsonvue-online-pakistan/payment-error.PNG)\n",
    "\n",
    "![](images/2023-05-29-tips-aws-cert-pearsonvue-online-pakistan/payment-method.PNG)\n",
    "\n",
    "If you find yourself facing this predicament, I recommend closing the tab and following the steps outlined below, which can help you overcome this issue smoothly.\n",
    "\n",
    "### Drawbacks of Pearson VUE\n",
    "\n",
    "There are certain limitations associated with Pearson VUE that you should be aware of. One major limitation is the inability to register for an onsite test center exam through Pearson VUE. They do not accept card payments for this option from Pakistan, and I could not find a workaround for this option within their system. **Consequently, the only viable alternative is to opt for the Online Proctoring exam.**\n",
    "\n",
    "## Step-by-Step Guide to Registering for the Online Proctoring Exam\n",
    "\n",
    "In this section, I will provide you with a detailed walkthrough of the steps involved in registering for your exam using the Online Proctoring option. By following these steps, you can successfully complete your registration process."
   ]
  },
  {
   "attachments": {},
   "cell_type": "markdown",
   "metadata": {},
   "source": [
    "### Step 1: Accessing Your AWS Certification Account with CertMetrics\n",
    "To begin the registration process, you need to access your [AWS Certification](https://www.aws.training/certification) account, which is managed through **CertMetrics**, a trusted third-party service provider. Follow these steps:\n",
    "\n",
    "1. Go to the AWS Certification website. \n",
    "2. Login to your AWS Certification account using your credentials. \n",
    "\n",
    "Once logged in, you will land on your account's homepage, which will resemble the example shown below:\n",
    "\n",
    "![](images/2023-05-29-tips-aws-cert-pearsonvue-online-pakistan/certmetric-home.PNG)\n",
    "\n",
    "3. Navigate to your profile page by clicking on \"My profile\" in the menu bar.\n",
    "\n",
    "On the profile page, locate the section titled **Mailing address - This section requires input in English (Roman) alphabet.** This is where you have provided your address details.\n",
    "\n",
    "4. Under this section, modify the country from \"Pakistan\" to \"Sri Lanka,\" as depicted in the screenshot below. Then, click the \"Update/Confirm\" button at the bottom to save the changes.\n",
    "\n",
    "![](images/2023-05-29-tips-aws-cert-pearsonvue-online-pakistan/change-country.PNG)\n",
    "\n",
    "::: {.callout-tip}\n",
    "\n",
    "You only need to change the country, and the rest of the details can remain unchanged. There is no need to modify any other information.\n",
    "\n",
    ":::\n",
    "\n",
    "**Now, you may be wondering why you need to change only the country to \"Sri Lanka\" and why it matters:**\n",
    "\n",
    "* Pearson VUE uses the country value from this field to verify your country of origin. If it remains as \"Pakistan,\" card payments will not be accepted. Although Pearson VUE shows the country field again on the \"Enter payment and billing information\" page, modifying it there will not have any effect, and you will still encounter issues during registration. Therefore, it is crucial to update your country from the CertMetrics profile before proceeding with exam registration through Pearson VUE.\n",
    "\n",
    "* Why specifically \"Sri Lanka\"? While you can attempt other countries, it's important to note that some countries have taxes applicable to exam fees, which would be added to the total cost. During my own exploration, I tested various options such as India, UAE, Ireland, and Afghanistan before settling on \"Sri Lanka.\" India, UAE, and Ireland have additional taxes, while Pearson VUE does not accept card payments from Afghanistan. Hence, \"Sri Lanka\" emerged as a suitable choice without any tax implications."
   ]
  },
  {
   "attachments": {},
   "cell_type": "markdown",
   "metadata": {},
   "source": [
    "### Step 2: Registering for the Exam with Pearson VUE\n",
    "Now that you have successfully updated your profile, you can proceed with registering for your exam through Pearson VUE without encountering any issues. Remember, this method applies specifically to the Online Proctoring option, as you may still encounter difficulties with the Test Center option.\n",
    "\n",
    "Here's a helpful tip to keep in mind during the registration process:\n",
    "\n",
    "On the \"Find an appointment\" page, you have the flexibility to select a suitable date and test-taking time of your choice. If the recommended time does not align with your schedule, you can explore additional time slots by clicking the \"Explore more times\" button. In case you're unable to find a suitable window, you can try the following approach:\n",
    "\n",
    "1. Change the selected exam date to a different random date.\n",
    "2. Change it back to the original desired date.\n",
    "3. Try the \"Explore more times\" option again.\n",
    "\n",
    "![](images/2023-05-29-tips-aws-cert-pearsonvue-online-pakistan/appointment.PNG)\n",
    "\n",
    "![](images/2023-05-29-tips-aws-cert-pearsonvue-online-pakistan/more-times.PNG)\n",
    "\n",
    "::: {.callout-tip}\n",
    "\n",
    "The available time slots are not fixed and may change periodically. By changing the dates, you can prompt the page to update the available options for you. Repeat this process a few times if necessary until you find a suitable time window for your exam.\n",
    "\n",
    ":::\n",
    "\n",
    "**Once you reach the \"Enter payment and billing\" page, follow these steps:**\n",
    "\n",
    "1. Add any voucher or promotion codes you have, if applicable.\n",
    "2. Select the desired payment type.\n",
    "3. Verify your billing information and ensure that the country name in the **Location/Region** field is reverted to \"Pakistan.\"\n",
    "\n",
    "Finally, click \"Next,\" and this time you will be able to proceed to the final payment page without encountering any obstacles.\n",
    "\n",
    "![](images/2023-05-29-tips-aws-cert-pearsonvue-online-pakistan/payment.PNG)"
   ]
  },
  {
   "attachments": {},
   "cell_type": "markdown",
   "metadata": {},
   "source": [
    "### Step 3: Completing the Registration and Updating Your CertMetrics Profile\n",
    "\n",
    "After successfully completing the payment and registering for the exam, there is one final step to consider. You should return to your CertMetrics profile and revert the country back to \"Pakistan.\" Follow these instructions:\n",
    "\n",
    "1. Once you have completed the registration process and received confirmation of your exam booking, access your CertMetrics profile again.\n",
    "2. Locate the country field in your profile and change it back to \"Pakistan.\"\n",
    "3. Save the changes by updating your profile.\n",
    "\n",
    "By updating your country back to \"Pakistan,\" you ensure that your CertMetrics profile reflects your accurate country information.\n",
    "\n",
    "Best of luck with your upcoming exam!"
   ]
  }
 ],
 "metadata": {
  "interpreter": {
   "hash": "1e915f0a29dc84041eaeb02b7b1a21c440e37a87b61d44d5e84a515737dc82bc"
  },
  "kernelspec": {
   "display_name": "Python 3.9.7 64-bit ('base': conda)",
   "language": "python",
   "name": "python3"
  },
  "language_info": {
   "codemirror_mode": {
    "name": "ipython",
    "version": 3
   },
   "file_extension": ".py",
   "mimetype": "text/x-python",
   "name": "python",
   "nbconvert_exporter": "python",
   "pygments_lexer": "ipython3",
   "version": "3.9.7"
  },
  "orig_nbformat": 4
 },
 "nbformat": 4,
 "nbformat_minor": 2
}
