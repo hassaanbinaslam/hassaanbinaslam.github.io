{
 "cells": [
  {
   "cell_type": "raw",
   "metadata": {
    "vscode": {
     "languageId": "raw"
    }
   },
   "source": [
    "---\n",
    "title: \"My Streamlit Deployment Journey on AWS : What Worked, What Didn't\"\n",
    "description: \"Deploying a Streamlit app on AWS was challenging due to its reliance on WebSockets, which services like Lambda, AppRunner, and Lightsail couldn’t fully support. I ultimately succeeded by using AWS Fargate and Application Load Balancer. This post summarizes my experience and provides a practical guide for similar deployments.\"\n",
    "date: '2025-01-21'\n",
    "image: images/2025-01-21-streamlit-deployment-aws.jpg\n",
    "output-file: 2025-01-21-streamlit-deployment-aws\n",
    "toc: true\n",
    "\n",
    "categories:\n",
    "- python\n",
    "- aws\n",
    "\n",
    "keyword:\n",
    "- Python\n",
    "- Web Development\n",
    "---"
   ]
  },
  {
   "cell_type": "markdown",
   "metadata": {},
   "source": [
    "![image source: https://www.artbreeder.com/image/5172f176d52800751b4463f4d554](images/2025-01-21-streamlit-deployment-aws.jpg)"
   ]
  },
  {
   "cell_type": "markdown",
   "metadata": {},
   "source": [
    "## Introduction\n",
    "\n",
    "I recently embarked on a journey to rapidly prototype a personal LLM application. Like many developers, I was drawn to Streamlit for its simplicity and Python-first approach. The ability to quickly design interactive UIs without wrestling with HTML or CSS made it the perfect fit. However, the road to deploying that Streamlit app on AWS turned out to be much more challenging than I initially anticipated. I naively thought that containerizing my app with Docker would be the golden ticket, and I'd be up and running in no time. I was wrong! This post will take you through my learning experience, detailing the various approaches I tried to host the Streamlit application on the AWS cloud, and share what I learned through the process. From serverless lambda functions to dedicated virtual machines, I'll describe what worked, what didn’t, and most importantly, why. By the end of the post, I hope that my experience helps you avoid the pitfalls and saves you from many days of frustration. Let's begin!"
   ]
  },
  {
   "cell_type": "markdown",
   "metadata": {},
   "source": [
    "## The Initial Assumption: Docker + Cloud = Easy Deployment\n",
    "\n",
    "With my Streamlit application working perfectly on my local machine, I confidently assumed the next step would be straightforward. \"Dockerize it, and deploy it to the cloud,\" I thought. After all, Docker simplifies application packaging, and cloud platforms like AWS are built for containerized apps, right? My understanding was that the cloud provided a wide array of services to host containerized apps, automatically managing network configurations, and quickly exposing my app through a public URL. I naively believed it would be a seamless and fast process.\n",
    "\n",
    "To understand where I went wrong, it's helpful to understand the internal architecture of Streamlit. As shown in the diagram below, a Streamlit application consists of three main parts: a React-based frontend, a [Tornado web server](https://www.tornadoweb.org/), and the Streamlit library. The React frontend is responsible for rendering the user interface, while the Tornado web server manages the application's logic and communication with the frontend. What's crucial is that the frontend and the Tornado web server communicate through the `WebSocket protocol`, enabling real-time, bi-directional communication. This is a key detail which is easy to overlook when starting out.\n",
    "\n",
    "![](images/2025-01-21-streamlit-deployment-aws/streamlit-architecture.png){.lightbox}"
   ]
  },
  {
   "cell_type": "markdown",
   "metadata": {},
   "source": [
    "### Diving Deep: Streamlit Network Communication\n",
    "\n",
    "To truly grasp the importance of WebSockets for Streamlit, let’s take a look at what’s happening under the hood during its network communication. I have used [Wireshark](https://www.wireshark.org/) to capture the network communication that happens when a simple Streamlit app (shown below) is loaded in a browser.\n",
    "\n",
    "![](images/2025-01-21-streamlit-deployment-aws/streamlit-hello-page.png){.lightbox}\n",
    "\n",
    "As you can see, the app simply displays \"Hello From Streamlit\" and is running on `localhost:8501`.\n",
    "\n",
    "The screenshot below shows the Wireshark capture of the complete network communication trace.\n",
    "\n",
    "![](images/2025-01-21-streamlit-deployment-aws/wireshark-complete-trace.png){.lightbox}\n",
    "\n",
    "Initially, the communication starts with the standard HTTP protocol, and it can be seen by the green lines. The browser sends GET requests to fetch resources like JavaScript and CSS files. Then, after initial handshakes, the protocol switches to WebSockets which can be seen in the blue lines. The communication over WebSockets is for the actual application logic. This screenshot highlights the critical role WebSockets play in Streamlit’s operation.\n",
    "\n",
    "Let’s take a closer look. \n",
    "\n",
    "**Stage 1: First Contact with Server**\n",
    "\n",
    "The first request from the browser is a simple GET request for the main page. The server then sends back an HTML document. This is shown in the below image.\n",
    "\n",
    "![](images/2025-01-21-streamlit-deployment-aws/wireshark-tornado-server.png){.lightbox}\n",
    "\n",
    "Here, we can see that the server identifies itself as a \"TornadoServer\" and the content type is `text/html`. This confirms that the underlying web server in Streamlit is indeed Tornado. \n",
    "\n",
    "**Stage 2: Initial HTML Payload from Server**\n",
    "\n",
    "The response body contains the HTML page that needs to be rendered, and the browser then parses it and starts loading the associated CSS and JS files.\n",
    "\n",
    "![](images/2025-01-21-streamlit-deployment-aws/wireshark-loaded-page.png){.lightbox}\n",
    "\n",
    "The following code block is the HTML page that is returned by the server."
   ]
  },
  {
   "cell_type": "code",
   "execution_count": null,
   "metadata": {
    "vscode": {
     "languageId": "html"
    }
   },
   "outputs": [],
   "source": [
    "#| code-fold: true\n",
    "#| code-summary: \"Show the code\"\n",
    "\n",
    "<!--\n",
    " Copyright (c) Streamlit Inc. (2018-2022) Snowflake Inc. (2022-2024)\n",
    "\n",
    " Licensed under the Apache License, Version 2.0 (the \"License\");\n",
    " you may not use this file except in compliance with the License.\n",
    " You may obtain a copy of the License at\n",
    "\n",
    "     http://www.apache.org/licenses/LICENSE-2.0\n",
    "\n",
    " Unless required by applicable law or agreed to in writing, software\n",
    " distributed under the License is distributed on an \"AS IS\" BASIS,\n",
    " WITHOUT WARRANTIES OR CONDITIONS OF ANY KIND, either express or implied.\n",
    " See the License for the specific language governing permissions and\n",
    " limitations under the License.\n",
    "-->\n",
    "\n",
    "<!DOCTYPE html>\n",
    "<html lang=\"en\">\n",
    "\n",
    "<head>\n",
    "   <meta charset=\"UTF-8\" />\n",
    "   <meta name=\"viewport\" content=\"width=device-width, initial-scale=1, shrink-to-fit=no\" />\n",
    "   <link rel=\"shortcut icon\" href=\"./favicon.png\" />\n",
    "   <link rel=\"preload\" href=\"./static/media/SourceSansPro-Regular.DZLUzqI4.woff2\" as=\"font\" type=\"font/woff2\"\n",
    "       crossorigin />\n",
    "   <link rel=\"preload\" href=\"./static/media/SourceSansPro-SemiBold.sKQIyTMz.woff2\" as=\"font\" type=\"font/woff2\"\n",
    "       crossorigin />\n",
    "   <link rel=\"preload\" href=\"./static/media/SourceSansPro-Bold.-6c9oR8J.woff2\" as=\"font\" type=\"font/woff2\"\n",
    "       crossorigin />\n",
    "\n",
    "   <title>Streamlit</title>\n",
    "\n",
    "   <!-- initialize window.prerenderReady to false and then set to true in React app when app is ready for indexing -->\n",
    "   <script>\n",
    "       window.prerenderReady = false\n",
    "   </script>\n",
    "   <script type=\"module\" crossorigin src=\"./static/js/index.Phesr84n.js\"></script>\n",
    "   <link rel=\"stylesheet\" crossorigin href=\"./static/css/index.CcCsR6ah.css\">\n",
    "</head>\n",
    "\n",
    "<body>\n",
    "   <noscript>You need to enable JavaScript to run this app.</noscript>\n",
    "   <div id=\"root\"></div>\n",
    "</body>\n",
    "\n",
    "</html>"
   ]
  },
  {
   "cell_type": "markdown",
   "metadata": {},
   "source": [
    "After loading the HTML page, the embedded JS code starts making subsequent HTTP requests for fetching CSS and JavaScript files. Once these files are loaded, the client is ready to switch to the WebSocket protocol.\n",
    "\n",
    "**Stage 3: Switching of Protocols**\n",
    "\n",
    "The next image shows that the browser requests the server to switch from HTTP to WebSocket using the [101 Switching Protocols](https://developer.mozilla.org/en-US/docs/Web/HTTP/Status/101) message.\n",
    "\n",
    "![](images/2025-01-21-streamlit-deployment-aws/wireshark-switching-protocol.png){.lightbox}\n",
    "\n",
    "After this handshake, the communication from client and server happens using the WebSocket protocol. The image below shows how the application data is sent from the server to the client using WebSockets.\n",
    "\n",
    "**Stage 4: Application Logic**\n",
    "\n",
    "![](images/2025-01-21-streamlit-deployment-aws/wireshark-content.png){.lightbox}\n",
    "\n",
    "This shows how the data containing the message \"Hello From Streamlit\" is exchanged through WebSockets. After that, most of the communication between the client and server consists of [ping/pong messages](https://developer.mozilla.org/en-US/docs/Web/API/WebSockets_API/Writing_WebSocket_servers#pings_and_pongs_the_heartbeat_of_websockets), which indicates that the connection is active. This pattern of sending data using WebSockets is what makes Streamlit apps interactive."
   ]
  },
  {
   "cell_type": "markdown",
   "metadata": {},
   "source": [
    "## First Attempt: The Serverless Approach with AWS Lambda\n",
    "\n",
    "Given my initial goal of quick prototyping and a preference for serverless architectures, [AWS Lambda](https://aws.amazon.com/lambda/) seemed like the ideal first choice. It promised a cost-effective and low-maintenance solution where I could just upload my code and let AWS handle the infrastructure. I envisioned deploying the Streamlit app as a Lambda function and then expose it to the public internet through an API Gateway endpoint. My understanding was that this would be the easiest, cheapest, and fastest way to make my app accessible to others.\n",
    "\n",
    "To make this happen, I used the [Lambda Web Adapter](https://github.com/awslabs/aws-lambda-web-adapter), which is designed to allow Lambda functions to respond to HTTP requests like a typical web server. As illustrated in the diagram below, the client browser would send requests to the [Lambda Function URL](https://aws.amazon.com/blogs/aws/announcing-aws-lambda-function-urls-built-in-https-endpoints-for-single-function-microservices/).\n",
    "\n",
    "![](images/2025-01-21-streamlit-deployment-aws/lambda-web-adapter.png){.lightbox}\n",
    "\n",
    "The Lambda function, through the Lambda Web Adapter, would then pass these requests to the Docker container running my Streamlit app, which was pushed to Amazon ECR.\n",
    "\n",
    "When I deployed my app and loaded the page, to my utter frustration, it was just an empty page. No errors, just a blank screen! I refreshed the page, checked my code, and looked at the logs, and everything seemed to be fine. I was able to get a response from the server, indicating that my request was reaching the Lambda function and that my Streamlit app was running inside a container. My browser was connecting to the server, and the server was responding to HTTP requests. However, I was still unable to see my Streamlit app!\n",
    "\n",
    "This is when I discovered the critical limitation: Lambda functions and the Lambda Web Adapter, by design, operate using a request-response pattern with the HTTP protocol. While the [Web Adapter does support HTTP request streaming](https://aws.amazon.com/blogs/compute/using-response-streaming-with-aws-lambda-web-adapter-to-optimize-performance/), it does not support WebSockets. My Streamlit app was loading till the point where the page receives HTTP responses for loading the basic HTML page, JS and CSS files. The application was working as far as HTTP communication was concerned. However, as we discussed before, Streamlit relies heavily on WebSockets for its real-time interactivity. This is evident from the browser’s developer tools screenshot:\n",
    "\n",
    "![](images/2025-01-21-streamlit-deployment-aws/streamlit-lambda-page-error-headers.png){.lightbox}\n",
    "\n",
    "You can see that while the initial HTTP requests for resources like HTML, JS, and CSS files are successful, the crucial \"stream\" connection using WebSocket fails, hence the empty page. The frontend was trying to establish a WebSocket connection with the Lambda, but since the Lambda Function URL + Web Adapter only support HTTP/s requests and does not support WebSocket, the connection attempt failed, and the page was stuck.\n",
    "\n",
    "This realization was a learning moment and made it clear to me that I needed a completely different approach.\n",
    "\n",
    "::: {.callout-tip collapse=\"true\"}\n",
    "#### AWS Lambda Function URL and Lambda Web Adapter: HTTP-Only Support\n",
    "\n",
    "AWS Lambda Function URL and Lambda Web Adapter enable HTTP(S) access to Lambda functions:\n",
    "\n",
    "- **Lambda Function URL**: Creates a direct HTTPS endpoint for invoking Lambda functions, ideal for lightweight, event-driven HTTP-based applications.\n",
    "- **Lambda Web Adapter**: Bridges Lambda with web frameworks (e.g., Flask, Express.js), routing HTTP requests to the application.\n",
    "\n",
    "Both support only HTTP(S) traffic, not protocols like WebSocket or raw TCP/UDP, making them suited for RESTful APIs, webhooks, and serverless web apps requiring HTTP communication.\n",
    ":::"
   ]
  }
 ],
 "metadata": {
  "language_info": {
   "name": "python"
  }
 },
 "nbformat": 4,
 "nbformat_minor": 2
}
