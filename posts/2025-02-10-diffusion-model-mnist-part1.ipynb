{
 "cells": [
  {
   "cell_type": "raw",
   "id": "58886322-b8be-44a6-8e31-a25b0ceb6415",
   "metadata": {
    "vscode": {
     "languageId": "raw"
    }
   },
   "source": [
    "---\n",
    "title: \"From Noise to Numbers: A Hands-On Guide to Generating MNIST Digits with Diffusion Models (Part 1)\"\n",
    "description: \"some description\"\n",
    "date: '2025-02-10'\n",
    "image: images/2025-02-10-diffusion-model-mnist-part1.jpeg\n",
    "output-file: 2025-02-10-diffusion-model-mnist-part1\n",
    "toc: true\n",
    "\n",
    "categories:\n",
    "- python\n",
    "\n",
    "keyword:\n",
    "- Python\n",
    "- Web Development\n",
    "---"
   ]
  },
  {
   "cell_type": "markdown",
   "id": "fd6dd069",
   "metadata": {},
   "source": [
    "![image source: https://www.artbreeder.com/image/4740f9c3d7ceac2112e54cd77b5c](images/2025-02-10-diffusion-model-mnist-part1.jpeg)"
   ]
  },
  {
   "cell_type": "markdown",
   "id": "106dae32-324e-4732-98d8-624224e27bba",
   "metadata": {},
   "source": [
    "## Introduction  \n",
    "\n",
    "Ever been amazed by AI-generated images? Let's demystify the magic behind them! Have you ever wondered how a machine can generate something coherent from pure randomness? Take a look at the image below. On the left, you see a jumble of random pixels — digital noise. On the right, a crisp, recognizable MNIST digit emerges. This transformation from noise to structure is powered by **Diffusion Models**, a revolutionary approach in deep learning.  \n",
    "\n",
    "*(Image 1: Pure Noise)      (Image 2: MNIST Digit)*  \n",
    "\n",
    "But how does this noise-to-image process actually work? Imagine an old analog TV with no signal. The screen fills with static — random noise. Diffusion models learn to **reverse this process**, starting from pure noise and gradually refining it into a meaningful image. Think of it as a sophisticated un-blurring process. If you had an extremely blurry image of a digit, a diffusion model would learn to iteratively \"de-blur\" it, bringing the digit into sharp focus — step by step — until the final image is clear.  \n",
    "\n",
    "MNIST digits provide the perfect playground for exploring this concept. Their simplicity allows us to focus on the **core mechanics of diffusion** without the added complexity of full-color, high-resolution images. In this post, we'll take a hands-on approach, building our own **MNIST digit generator from scratch** to truly understand how diffusion models work.  \n",
    "\n",
    "### What to Expect  \n",
    "\n",
    "We'll break down diffusion models into **four key stages**, each progressively refining our approach:  \n",
    "\n",
    "1. **Baseline Model:** We'll start with a simple **Convolutional UNet** trained to directly generate MNIST digits. This serves as our foundation before diving into diffusion.  \n",
    "2. **Architecture Improvements:** Next, we'll enhance our UNet using a more advanced design from the **diffusers library**, seeing firsthand how architectural tweaks improve results.  \n",
    "3. **Introducing Diffusion:** Now comes the core idea — rather than predicting full images, we train our model to predict **noise**, the crucial step that enables real diffusion.  \n",
    "4. **Full Diffusion Process:** Finally, we'll integrate a **noise scheduler**, allowing our model to iteratively denoise images, unlocking the true power of diffusion models.  \n",
    "\n",
    "By the end of this journey, you’ll not only understand how diffusion models generate images but also **build one yourself**! Whether you're a deep-learning enthusiast or an AI researcher, this hands-on approach will give you both **intuitive understanding** and **practical experience** in one of the most exciting areas of machine learning today.  \n",
    "\n",
    "Ready to dive in? Let’s get started!"
   ]
  },
  {
   "cell_type": "markdown",
   "id": "4fcb7eca-4c9c-45d0-b966-8f400d9efc8a",
   "metadata": {},
   "source": [
    "### Credits\n",
    "\n",
    "This post is inspired by the [Hugging Face Diffusion Course](https://huggingface.co/learn/diffusion-course/en/unit1/3)\n",
    "\n",
    "### Environment Details\n",
    "\n",
    "Run the following cell to install the required packages.\n",
    "\n",
    "* This notebook can be run with [Google Colab](https://colab.research.google.com/) T4 GPU runtime.\n",
    "* I have also tested this notebook with AWS SageMaker Jupyter Notebook running on ??"
   ]
  },
  {
   "cell_type": "code",
   "execution_count": 22,
   "id": "47c651f8-0f51-44cb-8df6-54dd96313c33",
   "metadata": {},
   "outputs": [],
   "source": [
    "%%capture\n",
    "!pip install datasets[vision]==2.2.1\n",
    "!pip install diffusers==0.32.2\n",
    "!pip install watermark==2.5.0\n",
    "!pip install torchinfo==1.8.0\n",
    "!pip install matplotlib==3.10.0"
   ]
  },
  {
   "cell_type": "markdown",
   "id": "c4846699",
   "metadata": {},
   "source": [
    "[WaterMark](https://github.com/rasbt/watermark) is an IPython magic extension for printing date and time stamps, version numbers, and hardware information. Let's load this extension and print the environment details."
   ]
  },
  {
   "cell_type": "code",
   "execution_count": 23,
   "id": "64dd2d3c-631e-43b2-ab87-b0e9e0c1bafa",
   "metadata": {},
   "outputs": [
    {
     "name": "stdout",
     "output_type": "stream",
     "text": [
      "The watermark extension is already loaded. To reload it, use:\n",
      "  %reload_ext watermark\n"
     ]
    }
   ],
   "source": [
    "%load_ext watermark"
   ]
  },
  {
   "cell_type": "code",
   "execution_count": 24,
   "id": "9af53e1f-1b21-4ba4-84a9-f5df6c2c1f6b",
   "metadata": {},
   "outputs": [
    {
     "name": "stdout",
     "output_type": "stream",
     "text": [
      "Python implementation: CPython\n",
      "Python version       : 3.11.11\n",
      "IPython version      : 8.31.0\n",
      "\n",
      "torch      : 2.4.1.post300\n",
      "torchvision: 0.19.1\n",
      "datasets   : 2.2.1\n",
      "diffusers  : 0.32.2\n",
      "matplotlib : 3.10.0\n",
      "watermark  : 2.5.0\n",
      "torchinfo  : 1.8.0\n",
      "\n",
      "Compiler    : GCC 13.3.0\n",
      "OS          : Linux\n",
      "Release     : 5.10.233-223.887.amzn2.x86_64\n",
      "Machine     : x86_64\n",
      "Processor   : x86_64\n",
      "CPU cores   : 4\n",
      "Architecture: 64bit\n",
      "\n"
     ]
    }
   ],
   "source": [
    "%watermark -v -m -p torch,torchvision,datasets,diffusers,matplotlib,watermark,torchinfo"
   ]
  },
  {
   "cell_type": "code",
   "execution_count": null,
   "id": "f738e4b0",
   "metadata": {},
   "outputs": [],
   "source": [
    "%watermark --iversions"
   ]
  },
  {
   "cell_type": "markdown",
   "id": "d3b54670-6aa7-4a37-a72b-916412729c96",
   "metadata": {},
   "source": [
    "## Data Preparation for MNIST: Simple Digits, Simple Setup  \n",
    "\n",
    "Before training our diffusion model to generate MNIST digits, we first need to **prepare the dataset properly**. Data preparation is a critical step in any machine learning project, especially for image-based models. Think of it like setting up an artist’s workspace — before painting, an artist ensures they have the right *canvas* and *paints*. Similarly, our model needs **well-structured, consistently formatted, and properly scaled data** to learn effectively and generate high-quality results.  \n",
    "\n",
    "In this section, we’ll go through the **key steps** required to get our MNIST digits ready for diffusion modeling.  \n",
    "\n",
    "### Loading the MNIST Dataset  \n",
    "\n",
    "Loading the MNIST dataset is incredibly easy, thanks to the [Hugging Face `datasets` library](https://huggingface.co/docs/datasets/en/index). With just one line of code, we can download and load the dataset:"
   ]
  },
  {
   "cell_type": "code",
   "execution_count": 4,
   "id": "55e2d7b7-2dfe-486f-bd9f-6a109ea1177e",
   "metadata": {},
   "outputs": [
    {
     "name": "stderr",
     "output_type": "stream",
     "text": [
      "Reusing dataset mnist (/home/sagemaker-user/.cache/huggingface/datasets/mnist/mnist/1.0.0/fda16c03c4ecfb13f165ba7e29cf38129ce035011519968cdaf74894ce91c9d4)\n"
     ]
    },
    {
     "data": {
      "application/vnd.jupyter.widget-view+json": {
       "model_id": "76ee3d17609643bbb9a592575642dbdd",
       "version_major": 2,
       "version_minor": 0
      },
      "text/plain": [
       "  0%|          | 0/2 [00:00<?, ?it/s]"
      ]
     },
     "metadata": {},
     "output_type": "display_data"
    },
    {
     "name": "stdout",
     "output_type": "stream",
     "text": [
      "DatasetDict({\n",
      "    train: Dataset({\n",
      "        features: ['image', 'label'],\n",
      "        num_rows: 60000\n",
      "    })\n",
      "    test: Dataset({\n",
      "        features: ['image', 'label'],\n",
      "        num_rows: 10000\n",
      "    })\n",
      "})\n"
     ]
    }
   ],
   "source": [
    "from datasets import load_dataset\n",
    "dataset = load_dataset(\"mnist\")\n",
    "print(dataset)"
   ]
  },
  {
   "cell_type": "markdown",
   "id": "94be58a2-1d7c-4e4c-ab16-97ce6dfb5f7b",
   "metadata": {},
   "source": [
    "Here’s what happens under the hood:  \n",
    "\n",
    "- The `load_dataset(\"mnist\")` function from the `datasets` library **automatically downloads** the MNIST dataset (if not already cached) and prepares it for use.  \n",
    "- Running `print(dataset)` reveals that it is stored as a `DatasetDict` with two splits: `'train'` and `'test'`. Each split contains a `Dataset` object with `'image'` and `'label'` features.  \n",
    "- Although the dataset includes labels, **we will not use them** for our unconditional image generation task.  \n",
    "- The images are in **grayscale** with pixel values ranging from **0 to 255**.\n",
    "\n",
    "Let's display a sample image from the training dataset."
   ]
  },
  {
   "cell_type": "code",
   "execution_count": 5,
   "id": "cbf44cc1-03a6-4daa-b255-1a2caca61594",
   "metadata": {},
   "outputs": [
    {
     "name": "stdout",
     "output_type": "stream",
     "text": [
      "Data Type: <class 'PIL.PngImagePlugin.PngImageFile'>\n",
      "Image Size: (28, 28)\n"
     ]
    },
    {
     "data": {
      "image/jpeg": "[encoded data removed]",
      "image/png": "[encoded data removed]",
      "text/plain": [
       "<PIL.PngImagePlugin.PngImageFile image mode=L size=28x28>"
      ]
     },
     "metadata": {},
     "output_type": "display_data"
    }
   ],
   "source": [
    "import matplotlib.pyplot as plt\n",
    "\n",
    "# Extract a sample image from the dataset\n",
    "sample_image = dataset[\"train\"][\"image\"][0]\n",
    "\n",
    "# Print details about the image\n",
    "print(\"Data Type:\", type(sample_image))  # Shows the type of object\n",
    "print(\"Image Size:\", sample_image.size)  # Displays dimensions of the image\n",
    "\n",
    "# Display the image\n",
    "sample_image.show()"
   ]
  },
  {
   "cell_type": "markdown",
   "id": "bdc92795-a56a-48a9-b01e-4b65b2a9a223",
   "metadata": {},
   "source": [
    "From the last cell output, you can see the loaded images are object of [Python Image Library (PIL)](https://pillow.readthedocs.io/en/stable/index.html) and are very tiny in their actual size. Let's enlarge the sample image and view it up close."
   ]
  },
  {
   "cell_type": "code",
   "execution_count": 6,
   "id": "fc933555-f744-438d-8f75-127cb4502ef6",
   "metadata": {},
   "outputs": [
    {
     "data": {
      "image/png": "[encoded data removed]",
      "text/plain": [
       "<Figure size 500x500 with 1 Axes>"
      ]
     },
     "metadata": {},
     "output_type": "display_data"
    }
   ],
   "source": [
    "# Display the image with a larger size\n",
    "plt.figure(figsize=(5, 5))  # Adjust the figure size as needed\n",
    "plt.imshow(sample_image, cmap=\"gray\")  # Use \"gray\" colormap for MNIST images\n",
    "plt.axis(\"off\")  # Hide axis for better visibility\n",
    "plt.show()"
   ]
  },
  {
   "cell_type": "markdown",
   "id": "42dc801c-fd3a-4aa8-9d88-7481278d0ab8",
   "metadata": {},
   "source": [
    "Each image is made up of small square pixels, with values ranging from 0 (black) to 255 (white). The grayscale intensity of each pixel determines how bright or dark it appears. By displaying these pixel values, we can understand how the model sees the image."
   ]
  },
  {
   "cell_type": "code",
   "execution_count": 7,
   "id": "efcc90ee-b29c-40bd-b4b6-589554238130",
   "metadata": {},
   "outputs": [
    {
     "name": "stdout",
     "output_type": "stream",
     "text": [
      "  0   0   0   0   0   0   0   0   0   0   0   0   0   0   0   0   0   0   0   0   0   0   0   0   0   0   0   0\n",
      "  0   0   0   0   0   0   0   0   0   0   0   0   0   0   0   0   0   0   0   0   0   0   0   0   0   0   0   0\n",
      "  0   0   0   0   0   0   0   0   0   0   0   0   0   0   0   0   0   0   0   0   0   0   0   0   0   0   0   0\n",
      "  0   0   0   0   0   0   0   0   0   0   0   0   0   0   0   0   0   0   0   0   0   0   0   0   0   0   0   0\n",
      "  0   0   0   0   0   0   0   0   0   0   0   0   0   0   0   0   0   0   0   0   0   0   0   0   0   0   0   0\n",
      "  0   0   0   0   0   0   0   0   0   0   0   0   3  18  18  18 126 136 175  26 166 255 247 127   0   0   0   0\n",
      "  0   0   0   0   0   0   0   0  30  36  94 154 170 253 253 253 253 253 225 172 253 242 195  64   0   0   0   0\n",
      "  0   0   0   0   0   0   0  49 238 253 253 253 253 253 253 253 253 251  93  82  82  56  39   0   0   0   0   0\n",
      "  0   0   0   0   0   0   0  18 219 253 253 253 253 253 198 182 247 241   0   0   0   0   0   0   0   0   0   0\n",
      "  0   0   0   0   0   0   0   0  80 156 107 253 253 205  11   0  43 154   0   0   0   0   0   0   0   0   0   0\n",
      "  0   0   0   0   0   0   0   0   0  14   1 154 253  90   0   0   0   0   0   0   0   0   0   0   0   0   0   0\n",
      "  0   0   0   0   0   0   0   0   0   0   0 139 253 190   2   0   0   0   0   0   0   0   0   0   0   0   0   0\n",
      "  0   0   0   0   0   0   0   0   0   0   0  11 190 253  70   0   0   0   0   0   0   0   0   0   0   0   0   0\n",
      "  0   0   0   0   0   0   0   0   0   0   0   0  35 241 225 160 108   1   0   0   0   0   0   0   0   0   0   0\n",
      "  0   0   0   0   0   0   0   0   0   0   0   0   0  81 240 253 253 119  25   0   0   0   0   0   0   0   0   0\n",
      "  0   0   0   0   0   0   0   0   0   0   0   0   0   0  45 186 253 253 150  27   0   0   0   0   0   0   0   0\n",
      "  0   0   0   0   0   0   0   0   0   0   0   0   0   0   0  16  93 252 253 187   0   0   0   0   0   0   0   0\n",
      "  0   0   0   0   0   0   0   0   0   0   0   0   0   0   0   0   0 249 253 249  64   0   0   0   0   0   0   0\n",
      "  0   0   0   0   0   0   0   0   0   0   0   0   0   0  46 130 183 253 253 207   2   0   0   0   0   0   0   0\n",
      "  0   0   0   0   0   0   0   0   0   0   0   0  39 148 229 253 253 253 250 182   0   0   0   0   0   0   0   0\n",
      "  0   0   0   0   0   0   0   0   0   0  24 114 221 253 253 253 253 201  78   0   0   0   0   0   0   0   0   0\n",
      "  0   0   0   0   0   0   0   0  23  66 213 253 253 253 253 198  81   2   0   0   0   0   0   0   0   0   0   0\n",
      "  0   0   0   0   0   0  18 171 219 253 253 253 253 195  80   9   0   0   0   0   0   0   0   0   0   0   0   0\n",
      "  0   0   0   0  55 172 226 253 253 253 253 244 133  11   0   0   0   0   0   0   0   0   0   0   0   0   0   0\n",
      "  0   0   0   0 136 253 253 253 212 135 132  16   0   0   0   0   0   0   0   0   0   0   0   0   0   0   0   0\n",
      "  0   0   0   0   0   0   0   0   0   0   0   0   0   0   0   0   0   0   0   0   0   0   0   0   0   0   0   0\n",
      "  0   0   0   0   0   0   0   0   0   0   0   0   0   0   0   0   0   0   0   0   0   0   0   0   0   0   0   0\n",
      "  0   0   0   0   0   0   0   0   0   0   0   0   0   0   0   0   0   0   0   0   0   0   0   0   0   0   0   0\n"
     ]
    }
   ],
   "source": [
    "import numpy as np\n",
    "\n",
    "# Convert image to NumPy array\n",
    "image_array = np.array(sample_image)\n",
    "\n",
    "# Print the pixel values in a structured format\n",
    "for row in image_array:\n",
    "    print(\" \".join(f\"{pixel:3}\" for pixel in row))  # Align values properly\n"
   ]
  },
  {
   "cell_type": "markdown",
   "id": "dadf75cf-ce7a-48bb-aa13-4cac4574936f",
   "metadata": {},
   "source": [
    "### Preprocessing for MNIST Images\n",
    "\n",
    "Once the MNIST dataset is loaded, the next crucial step is **preprocessing** the images. Raw MNIST images, which are grayscale and 28×28 in size, need to be formatted appropriately for deep learning models. Proper preprocessing helps standardize the input data, making it easier for the model to learn effectively.  \n",
    "\n",
    "In this pipeline, we will use `torchvision.transforms.Compose` to apply a series of transformations:  \n",
    "\n",
    "- **Resizing**: Ensures all images are a consistent size (e.g., 32×32).  \n",
    "- **Tensor Conversion**: Converts images to PyTorch tensors and scales pixel values to \\[0,1\\].  \n",
    "- **Normalization**: Adjusts pixel values to have a mean of 0 and a range of \\[-1,1\\], which can speed up training and improve convergence.  \n",
    "\n",
    "Below is the code for our preprocessing pipeline:"
   ]
  },
  {
   "cell_type": "code",
   "execution_count": 8,
   "id": "4a63822a-e60a-4afc-a8d7-894c672e236f",
   "metadata": {},
   "outputs": [],
   "source": [
    "import torch\n",
    "from torchvision import transforms\n",
    "\n",
    "image_size = 32  # Define the target image size (e.g., 32x32)\n",
    "\n",
    "preprocess = transforms.Compose([\n",
    "    transforms.Resize((image_size, image_size)),  # Resize images to a fixed size\n",
    "    transforms.ToTensor(),  # Convert images to tensors & scale pixel values to [0, 1]\n",
    "    transforms.Normalize([0.5], [0.5]),  # Normalize to the range [-1, 1]\n",
    "])"
   ]
  },
  {
   "cell_type": "markdown",
   "id": "1b1e4312-ee9d-4aa0-a9fb-83a0138ac554",
   "metadata": {},
   "source": [
    "Each function in `transforms.Compose()` plays a crucial role in preparing the images:  \n",
    "\n",
    "- **`transforms.Resize((image_size, image_size))`**  \n",
    "  - Resizes images to **32×32 pixels** (or any chosen `image_size`).  \n",
    "  - Ensures a consistent input size for our UNet model.  \n",
    "- **`transforms.ToTensor()`**  \n",
    "  - Converts images from **PIL format** to **PyTorch tensors**.  \n",
    "  - Scales pixel values from **[0, 255]** to **[0, 1]** for compatibility with deep learning models.  \n",
    "- **`transforms.Normalize([0.5], [0.5])`**  \n",
    "  - Normalizes pixel values to the **[-1, 1]** range using the formula:  \n",
    "\n",
    "    \\[\n",
    "    \\text{normalized_pixel} = \\frac{\\text{original_pixel} - 0.5}{0.5}\n",
    "    \\]\n",
    "\n",
    "  - This shifts the mean pixel value to **zero** and scales the data, improving training stability.\n",
    "\n",
    "#### Applying the Transformations to the Dataset\n",
    "\n",
    "With our preprocessing pipeline defined, we now need to **apply it to the dataset**. Instead of modifying the dataset in advance, we’ll use **on-the-fly transformations** — ensuring preprocessing is applied only when data is accessed, keeping memory usage efficient.  \n",
    "\n",
    "To achieve this, we define a transformation function and set it for our dataset:"
   ]
  },
  {
   "cell_type": "code",
   "execution_count": 9,
   "id": "ac0ee97c-b8bb-4aba-a62a-4ac26a3fec89",
   "metadata": {},
   "outputs": [
    {
     "name": "stderr",
     "output_type": "stream",
     "text": [
      "Parameter 'transform'=<function transform at 0x7f3013f0ed40> of the transform datasets.arrow_dataset.Dataset.set_format couldn't be hashed properly, a random hash was used instead. Make sure your transforms and parameters are serializable with pickle or dill for the dataset fingerprinting and caching to work. If you reuse this transform, the caching mechanism will consider it to be different from the previous calls and recompute everything. This warning is only showed once. Subsequent hashing failures won't be showed.\n"
     ]
    }
   ],
   "source": [
    "# Define the transform function\n",
    "def transform(examples):\n",
    "    examples = [preprocess(image) for image in examples[\"image\"]]\n",
    "    return {\"images\": examples}\n",
    "\n",
    "# Apply the transform to the dataset\n",
    "dataset.set_transform(transform)"
   ]
  },
  {
   "cell_type": "markdown",
   "id": "cde24c92-a32a-4b81-941d-ca15c2baaf8d",
   "metadata": {},
   "source": [
    "In this code:\n",
    "\n",
    "- **The `transform` function**  \n",
    "  - Receives batches of examples from the dataset.  \n",
    "  - Applies the `preprocess` pipeline (resizing, tensor conversion, normalization) to the `'image'` feature using list comprehension.  \n",
    "  - Returns a dictionary with the transformed images under the key `'images'`.  \n",
    "- **`dataset.set_transform(transform)`**  \n",
    "  - Associates the `transform` function with the dataset.  \n",
    "  - Ensures that preprocessing is **dynamically applied** whenever data is accessed, rather than modifying and storing a preprocessed copy.  \n",
    "\n",
    "#### Creating the DataLoader  \n",
    "\n",
    "With our dataset preprocessed, the next step is to create a **DataLoader**. PyTorch's `DataLoader` is an essential utility that efficiently handles data loading during training. It performs key tasks such as:  \n",
    "\n",
    "- **Batching**: Groups images into batches for efficient processing, especially when using a GPU.  \n",
    "- **Shuffling**: Randomizes the order of samples to prevent the model from memorizing patterns based on dataset order.  \n",
    "- **Efficient Loading**: Streams data dynamically, preventing memory bottlenecks.  \n",
    "\n",
    "Shuffling is particularly important as it enhances the model’s **generalization ability**, ensuring it learns meaningful patterns rather than sequence-based biases.  \n",
    "\n",
    "Here’s how to create a **DataLoader** for the MNIST training set: "
   ]
  },
  {
   "cell_type": "code",
   "execution_count": 10,
   "id": "988d13e5-5507-4c1b-9464-1bd55c3a56bb",
   "metadata": {},
   "outputs": [],
   "source": [
    "import torch\n",
    "from torch.utils.data import DataLoader\n",
    "\n",
    "batch_size = 8 # Define batch size (adjust as needed based on GPU memory)\n",
    "\n",
    "train_dataloader = DataLoader(dataset[\"train\"], batch_size=batch_size, shuffle=True)"
   ]
  },
  {
   "cell_type": "markdown",
   "id": "34ff75a1-e7ac-4b74-91c5-c7786e0af165",
   "metadata": {},
   "source": [
    "In this code snippet:\n",
    "\n",
    "- **`batch_size = 8`**: Defines the number of images in each batch. Larger batch sizes can speed up training but require more memory. Adjust as needed based on your hardware.  \n",
    "- **`dataset[\"train\"]`**: Specifies the training split of the MNIST dataset.  \n",
    "- **`shuffle=True`**: Ensures that data is randomly shuffled at the beginning of each training epoch, preventing the model from learning sequence-based biases.  \n",
    "\n",
    "With `train_dataloader` set up, we are now fully equipped to feed **batches of preprocessed MNIST images** into our diffusion model during training.\n",
    "\n",
    "#### Visualizing a Batch of Preprocessed Images\n",
    "\n",
    "Before training a model, it’s important to verify that our data preprocessing pipeline is functioning as expected. One effective way to do this is by visualizing a batch of preprocessed images. This allows us to check whether key transformations—such as resizing, tensor conversion, and normalization—have been applied correctly.  \n",
    "\n",
    "We can use `matplotlib` along with `torchvision.utils.make_grid` to display a grid of images from our `train_dataloader`. This quick visual inspection helps confirm that the images are correctly formatted and ready for model training.  \n",
    "\n",
    "Below is a simple implementation to visualize a batch:"
   ]
  },
  {
   "cell_type": "code",
   "execution_count": 11,
   "id": "652c5ffc-72ed-477f-b77b-a63ace242e44",
   "metadata": {},
   "outputs": [
    {
     "name": "stdout",
     "output_type": "stream",
     "text": [
      "Input shape: torch.Size([8, 1, 32, 32])\n"
     ]
    },
    {
     "data": {
      "image/png": "[encoded data removed]",
      "text/plain": [
       "<Figure size 800x800 with 1 Axes>"
      ]
     },
     "metadata": {},
     "output_type": "display_data"
    }
   ],
   "source": [
    "import torchvision\n",
    "\n",
    "# Get a batch of images from the dataloader\n",
    "data_iter = iter(train_dataloader)\n",
    "batch = next(data_iter)  # Get the first batch\n",
    "imgs = batch[\"images\"]  # Get images from the batch\n",
    "\n",
    "# imgs = next(iter(train_dataloader))[\"images\"]\n",
    "print(\"Input shape:\", imgs.shape)\n",
    "\n",
    "# Visualize the batch\n",
    "plt.figure(figsize=(8, 8))\n",
    "plt.axis(\"off\")\n",
    "plt.imshow(torchvision.utils.make_grid(imgs)[0], cmap=\"Greys\")\n",
    "plt.show()"
   ]
  },
  {
   "cell_type": "markdown",
   "id": "855c0268-ce44-4fae-a198-b8394d404bb7",
   "metadata": {},
   "source": [
    "Our images have been transformed from pixel-based representations to tensors, making them more suitable for training. Now, let's visualize how a single image appears after these transformations."
   ]
  },
  {
   "cell_type": "code",
   "execution_count": 12,
   "id": "3400b617-9c8e-4ee3-a4e2-1b53239b4b72",
   "metadata": {},
   "outputs": [
    {
     "name": "stdout",
     "output_type": "stream",
     "text": [
      "Pixel values after preprocessing:\n",
      "0.0 0.0 0.0 0.0 0.0 0.0 0.0 0.0 0.0 0.0 0.0 0.0 0.0 0.0 0.0 0.0 0.0 0.0 0.0 0.0 0.0 0.0 0.0 0.0 0.0 0.0 0.0 0.0 0.0 0.0 0.0 0.0\n",
      "0.0 0.0 0.0 0.0 0.0 0.0 0.0 0.0 0.0 0.0 0.0 0.0 0.0 0.0 0.0 0.0 0.0 0.0 0.0 0.0 0.0 0.0 0.0 0.0 0.0 0.0 0.0 0.0 0.0 0.0 0.0 0.0\n",
      "0.0 0.0 0.0 0.0 0.0 0.0 0.0 0.0 0.0 0.0 0.0 0.0 0.0 0.0 0.0 0.0 0.0 0.0 0.0 0.0 0.0 0.0 0.0 0.0 0.0 0.0 0.0 0.0 0.0 0.0 0.0 0.0\n",
      "0.0 0.0 0.0 0.0 0.0 0.0 0.0 0.0 0.0 0.0 0.0 0.0 0.0 0.0 0.0 0.0 0.0 0.0 0.0 0.0 0.0 0.0 0.0 0.0 0.0 0.0 0.0 0.0 0.0 0.0 0.0 0.0\n",
      "0.0 0.0 0.0 0.0 0.0 0.0 0.0 0.0 0.0 0.0 0.0 0.0 0.0 0.1 0.2 0.3 0.4 0.4 0.4 0.4 0.2 0.1 0.0 0.0 0.0 0.0 0.0 0.0 0.0 0.0 0.0 0.0\n",
      "0.0 0.0 0.0 0.0 0.0 0.0 0.0 0.0 0.0 0.0 0.1 0.1 0.3 0.5 0.7 0.8 1.0 0.9 0.9 0.8 0.6 0.3 0.1 0.0 0.0 0.0 0.0 0.0 0.0 0.0 0.0 0.0\n",
      "0.0 0.0 0.0 0.0 0.0 0.0 0.0 0.0 0.0 0.2 0.4 0.5 0.7 1.0 1.0 0.9 0.8 0.6 0.6 0.7 0.8 0.8 0.4 0.0 0.0 0.0 0.0 0.0 0.0 0.0 0.0 0.0\n",
      "0.0 0.0 0.0 0.0 0.0 0.0 0.0 0.0 0.2 0.6 0.9 1.0 1.0 0.9 0.8 0.5 0.1 0.0 0.0 0.1 0.5 0.9 0.8 0.2 0.0 0.0 0.0 0.0 0.0 0.0 0.0 0.0\n",
      "0.0 0.0 0.0 0.0 0.0 0.0 0.0 0.2 0.8 0.9 1.0 0.9 0.7 0.4 0.1 0.0 0.0 0.0 0.0 0.0 0.2 0.6 0.9 0.7 0.1 0.0 0.0 0.0 0.0 0.0 0.0 0.0\n",
      "0.0 0.0 0.0 0.0 0.0 0.0 0.0 0.2 0.9 1.0 0.9 0.5 0.1 0.1 0.0 0.0 0.0 0.0 0.0 0.0 0.1 0.4 1.0 0.9 0.1 0.0 0.0 0.0 0.0 0.0 0.0 0.0\n",
      "0.0 0.0 0.0 0.0 0.0 0.0 0.0 0.1 0.4 0.6 0.4 0.1 0.0 0.0 0.0 0.0 0.0 0.0 0.0 0.0 0.0 0.3 1.0 0.9 0.1 0.0 0.0 0.0 0.0 0.0 0.0 0.0\n",
      "0.0 0.0 0.0 0.0 0.0 0.0 0.0 0.0 0.0 0.2 0.1 0.0 0.0 0.0 0.0 0.0 0.0 0.0 0.0 0.0 0.0 0.3 0.9 0.9 0.2 0.0 0.0 0.0 0.0 0.0 0.0 0.0\n",
      "0.0 0.0 0.0 0.0 0.0 0.0 0.0 0.0 0.0 0.0 0.0 0.0 0.0 0.0 0.0 0.0 0.0 0.0 0.0 0.0 0.0 0.3 0.9 0.9 0.2 0.0 0.0 0.0 0.0 0.0 0.0 0.0\n",
      "0.0 0.0 0.0 0.0 0.0 0.0 0.0 0.0 0.0 0.0 0.0 0.0 0.0 0.0 0.0 0.0 0.0 0.0 0.0 0.0 0.0 0.3 0.9 0.9 0.2 0.0 0.0 0.0 0.0 0.0 0.0 0.0\n",
      "0.0 0.0 0.0 0.0 0.0 0.0 0.0 0.0 0.0 0.0 0.0 0.0 0.0 0.0 0.0 0.0 0.0 0.0 0.0 0.0 0.0 0.4 1.0 0.9 0.1 0.0 0.0 0.0 0.0 0.0 0.0 0.0\n",
      "0.0 0.0 0.0 0.0 0.0 0.0 0.0 0.0 0.0 0.0 0.0 0.0 0.2 0.3 0.1 0.1 0.0 0.0 0.0 0.0 0.2 0.6 1.0 0.9 0.1 0.0 0.0 0.0 0.0 0.0 0.0 0.0\n",
      "0.0 0.0 0.0 0.0 0.0 0.0 0.0 0.0 0.0 0.1 0.3 0.7 0.9 0.9 0.9 0.7 0.5 0.2 0.0 0.0 0.2 0.6 1.0 0.9 0.1 0.0 0.0 0.0 0.0 0.0 0.0 0.0\n",
      "0.0 0.0 0.0 0.0 0.0 0.0 0.0 0.0 0.0 0.4 0.8 0.9 1.0 1.0 0.9 0.9 0.9 0.8 0.5 0.2 0.2 0.7 0.9 0.7 0.1 0.0 0.0 0.0 0.0 0.0 0.0 0.0\n",
      "0.0 0.0 0.0 0.0 0.0 0.0 0.0 0.0 0.3 0.7 0.9 0.9 0.6 0.4 0.3 0.3 0.5 0.8 0.8 0.7 0.7 0.9 0.9 0.4 0.0 0.0 0.0 0.0 0.0 0.0 0.0 0.0\n",
      "0.0 0.0 0.0 0.0 0.0 0.0 0.0 0.1 0.6 0.9 0.8 0.5 0.2 0.0 0.0 0.0 0.1 0.3 0.7 0.9 1.0 1.0 0.7 0.1 0.0 0.0 0.0 0.0 0.0 0.0 0.0 0.0\n",
      "0.0 0.0 0.0 0.0 0.0 0.0 0.1 0.3 0.9 0.9 0.4 0.1 0.0 0.0 0.0 0.0 0.0 0.0 0.5 0.9 1.0 0.9 0.7 0.0 0.0 0.0 0.0 0.0 0.0 0.0 0.0 0.0\n",
      "0.0 0.0 0.0 0.0 0.0 0.0 0.1 0.7 1.0 0.6 0.2 0.0 0.0 0.0 0.0 0.0 0.0 0.1 0.5 0.8 1.0 1.0 0.7 0.1 0.0 0.0 0.0 0.0 0.0 0.0 0.0 0.0\n",
      "0.0 0.0 0.0 0.0 0.0 0.0 0.2 0.9 0.9 0.4 0.1 0.0 0.0 0.0 0.0 0.0 0.1 0.4 0.8 0.9 0.9 0.9 0.9 0.5 0.0 0.0 0.0 0.0 0.0 0.0 0.0 0.0\n",
      "0.0 0.0 0.0 0.0 0.0 0.0 0.2 0.9 0.6 0.1 0.0 0.0 0.0 0.0 0.0 0.1 0.5 0.9 1.0 0.8 0.6 0.7 1.0 0.9 0.1 0.0 0.0 0.0 0.0 0.0 0.0 0.0\n",
      "0.0 0.0 0.0 0.0 0.0 0.0 0.2 0.9 0.7 0.1 0.0 0.0 0.0 0.0 0.1 0.6 0.9 1.0 0.8 0.3 0.2 0.6 1.0 0.9 0.1 0.0 0.0 0.0 0.0 0.0 0.0 0.0\n",
      "0.0 0.0 0.0 0.0 0.0 0.0 0.1 0.4 0.8 0.5 0.3 0.3 0.4 0.6 0.8 0.9 1.0 0.6 0.3 0.1 0.1 0.4 0.9 0.9 0.1 0.0 0.0 0.0 0.0 0.0 0.0 0.0\n",
      "0.0 0.0 0.0 0.0 0.0 0.0 0.0 0.1 0.3 0.6 0.7 0.8 0.8 0.9 0.9 0.7 0.4 0.2 0.0 0.0 0.0 0.1 0.4 0.4 0.1 0.0 0.0 0.0 0.0 0.0 0.0 0.0\n",
      "0.0 0.0 0.0 0.0 0.0 0.0 0.0 0.0 0.0 0.3 0.4 0.4 0.4 0.4 0.4 0.3 0.1 0.0 0.0 0.0 0.0 0.0 0.0 0.1 0.0 0.0 0.0 0.0 0.0 0.0 0.0 0.0\n",
      "0.0 0.0 0.0 0.0 0.0 0.0 0.0 0.0 0.0 0.0 0.0 0.0 0.0 0.0 0.0 0.0 0.0 0.0 0.0 0.0 0.0 0.0 0.0 0.0 0.0 0.0 0.0 0.0 0.0 0.0 0.0 0.0\n",
      "0.0 0.0 0.0 0.0 0.0 0.0 0.0 0.0 0.0 0.0 0.0 0.0 0.0 0.0 0.0 0.0 0.0 0.0 0.0 0.0 0.0 0.0 0.0 0.0 0.0 0.0 0.0 0.0 0.0 0.0 0.0 0.0\n",
      "0.0 0.0 0.0 0.0 0.0 0.0 0.0 0.0 0.0 0.0 0.0 0.0 0.0 0.0 0.0 0.0 0.0 0.0 0.0 0.0 0.0 0.0 0.0 0.0 0.0 0.0 0.0 0.0 0.0 0.0 0.0 0.0\n",
      "0.0 0.0 0.0 0.0 0.0 0.0 0.0 0.0 0.0 0.0 0.0 0.0 0.0 0.0 0.0 0.0 0.0 0.0 0.0 0.0 0.0 0.0 0.0 0.0 0.0 0.0 0.0 0.0 0.0 0.0 0.0 0.0\n"
     ]
    },
    {
     "data": {
      "image/png": "[encoded data removed]",
      "text/plain": [
       "<Figure size 600x600 with 1 Axes>"
      ]
     },
     "metadata": {},
     "output_type": "display_data"
    }
   ],
   "source": [
    "# Take the first image from the batch\n",
    "image_tensor = next(iter(train_dataloader))[\"images\"][0]\n",
    "\n",
    "# Convert tensor to NumPy array\n",
    "image_array = image_tensor.numpy()\n",
    "\n",
    "# Undo normalization (convert back to range [0,1])\n",
    "image_array = (image_array * 0.5) + 0.5  # Since you used Normalize([0.5], [0.5])\n",
    "\n",
    "# Convert from (C, H, W) to (H, W) since it's grayscale\n",
    "image_array = image_array.squeeze(0)  \n",
    "\n",
    "# Print pixel values\n",
    "print(\"Pixel values after preprocessing:\")\n",
    "for row in image_array:\n",
    "    print(\" \".join(f\"{pixel:.1f}\" for pixel in row))\n",
    "\n",
    "# Display the image for reference\n",
    "plt.figure(figsize=(6,6))\n",
    "plt.imshow(image_array, cmap=\"gray\", interpolation=\"nearest\")\n",
    "plt.title(\"Processed Image\")\n",
    "plt.axis(\"off\")\n",
    "plt.show()"
   ]
  },
  {
   "cell_type": "markdown",
   "id": "d063e36a-136d-41df-9672-69b8c25c9f1f",
   "metadata": {},
   "source": [
    "## Understanding the Noise Corruption Function  \n",
    "\n",
    "### Introducing the `corrupt` Function  \n",
    "\n",
    "In diffusion models, we need a systematic way to introduce noise into clean images. This controlled noise addition is crucial for simulating the forward diffusion process, where an image gradually transforms from a structured state to pure noise. To achieve this, we use a helper function called `corrupt`.  \n",
    "\n",
    "The `corrupt` function takes a batch of clean images and progressively degrades them by blending in random noise at varying levels, determined by an `amount` parameter. This function plays a fundamental role in diffusion models, enabling a structured transition from the original image to noise. While our initial implementation will use a simplified version, understanding its mechanics is essential, as more advanced models will build upon this process.  \n",
    "\n",
    "Now, let's examine its implementation:"
   ]
  },
  {
   "cell_type": "code",
   "execution_count": 13,
   "id": "f0329975-258a-4157-b263-7f0f6074e4da",
   "metadata": {},
   "outputs": [],
   "source": [
    "# Definition of the noise corruption function\n",
    "def corrupt(x, noise, amount):\n",
    "    amount = amount.view(-1, 1, 1, 1)  # make sure it's broadcastable\n",
    "    return (\n",
    "        x * (1 - amount) + noise * amount\n",
    "    )  # equivalent to x.lerp(noise, amount)"
   ]
  },
  {
   "cell_type": "markdown",
   "id": "d637f3f5-c2d9-4140-91ef-cf548b1182f3",
   "metadata": {},
   "source": [
    "The function `corrupt(x, noise, amount)` takes three input arguments:  \n",
    "\n",
    "- **`x`**: A batch of clean images, represented as a PyTorch tensor with shape `(batch_size, 1, image_size, image_size)`.  \n",
    "- **`noise`**: A tensor of random values, matching the shape of `x`, representing the noise to be added.  \n",
    "- **`amount`**: A tensor of shape `(batch_size,)`, specifying the level of noise corruption for each image in the batch.  \n",
    "\n",
    "Since `amount` is a 1D tensor, it must be reshaped to match the dimensions of `x` for proper broadcasting during element-wise operations. This is achieved with:  \n",
    "\n",
    "```python\n",
    "amount = amount.view(-1, 1, 1, 1)\n",
    "```  \n",
    "\n",
    "This transformation ensures that `amount` is applied consistently across all pixels and channels of each image.  \n",
    "\n",
    "The core logic of noise corruption is in the return statement:  \n",
    "\n",
    "```python\n",
    "return x * (1 - amount) + noise * amount\n",
    "```  \n",
    "\n",
    "This expression performs a smooth interpolation between the original image `x` and the noise `noise`, controlled by `amount`:  \n",
    "\n",
    "- `(1 - amount)`: As `amount` increases from `0` to `1`, this value decreases from `1` to `0`.  \n",
    "- `x * (1 - amount)`: The clean image is scaled down based on `(1 - amount)`. If `amount` is near `0`, the image remains mostly intact. If `amount` is near `1`, its contribution diminishes significantly.  \n",
    "- `noise * amount`: The noise is scaled up in proportion to `amount`. At `amount = 0`, no noise is added; at `amount = 1`, the image is entirely replaced by noise.  \n",
    "- The sum of these terms creates a seamless blend, where the noise level increases progressively with `amount`.  \n",
    "\n",
    "By structuring the noise corruption process this way, we ensure that images degrade in a controlled and predictable manner—an essential property for training diffusion models."
   ]
  },
  {
   "cell_type": "markdown",
   "id": "1ac7450d-9687-4b7b-a7d4-9826d8f9066b",
   "metadata": {},
   "source": [
    "To better understand how the `corrupt` function modifies images, we will apply it to a batch of MNIST digits with varying levels of noise and visualize the results. The code below retrieves a batch of images from `train_dataloader`, generates a range of noise levels, applies the `corrupt` function, and then displays both the clean and noisy images. "
   ]
  },
  {
   "cell_type": "code",
   "execution_count": 14,
   "id": "2f6c7b3b-5a83-4b8d-bc90-6d95ceedaf39",
   "metadata": {},
   "outputs": [
    {
     "data": {
      "image/png": "[encoded data removed]",
      "text/plain": [
       "<Figure size 1200x500 with 2 Axes>"
      ]
     },
     "metadata": {},
     "output_type": "display_data"
    }
   ],
   "source": [
    "# --- Visualizing the effect of the corrupt function ---\n",
    "# Get a batch of images from the training dataloader\n",
    "batch = next(iter(train_dataloader))\n",
    "imgs = batch[\"images\"]\n",
    "\n",
    "# Prepare noise and noise amounts for visualization\n",
    "amount = torch.linspace(0, 1, imgs.shape[0]) # Noise amounts from 0 to 1\n",
    "noise = torch.rand_like(imgs)                # Random noise tensor\n",
    "noised_x = corrupt(imgs, noise, amount)      # Apply corrupt function\n",
    "\n",
    "# --- Plotting the input and corrupted images ---\n",
    "fig, axs = plt.subplots(2, 1, figsize=(12, 5)) # Create figure and axes for plotting\n",
    "\n",
    "# Plotting the original input data\n",
    "axs[0].set_title(\"Input data\")\n",
    "axs[0].imshow(torchvision.utils.make_grid(imgs)[0], cmap=\"Greys\") # Display original images in top row\n",
    "\n",
    "# Plotting the corrupted version\n",
    "axs[1].set_title(\"Corrupted data, from little corruption to a lot of corrupton\")\n",
    "axs[1].imshow(torchvision.utils.make_grid(noised_x)[0], cmap=\"Greys\") # Display corrupted images in bottom row\n",
    "\n",
    "plt.show() # Show the plot"
   ]
  },
  {
   "cell_type": "markdown",
   "id": "dc3b81c0-3995-4fcc-878c-6c33d02b358e",
   "metadata": {},
   "source": [
    "Running this code generates a visualization consisting of two rows of MNIST digits:  \n",
    "\n",
    "1. **Top row (Input data)** – This row displays the original, clean MNIST digits from `train_dataloader`. These digits are sharp and clearly recognizable. This serves as our reference point before noise is applied.  \n",
    "2. **Bottom row (Corrupted data, from little corruption to a lot of corruption)** – This row shows the same digits after being processed by the `corrupt` function. Observing from left to right, we can see an increasing level of noise corruption.  \n",
    "\n",
    "- **Leftmost images**: The noise level is minimal, so these images closely resemble the originals in the top row.  \n",
    "- **Gradual progression**: Moving toward the right, noise becomes more prominent, making the digits less distinct.  \n",
    "- **Rightmost images**: The noise level is at its maximum, significantly obscuring the original digit. In extreme cases, the digit may become unrecognizable.  \n",
    "\n",
    "This visualization clearly illustrates the behavior of the `corrupt` function. By adjusting the `amount` parameter, we can precisely control the degree of noise added to an image—ranging from slight perturbations to near-complete corruption. This capability will be crucial in our exploration of diffusion models, where controlled noise application is fundamental to the learning process."
   ]
  },
  {
   "cell_type": "markdown",
   "id": "8ed512b5-855d-4cd4-87df-aab8e1bbb26a",
   "metadata": {},
   "source": [
    "## Model 1: Simple Convolutional UNet for Direct Image Prediction\n",
    "\n",
    "### Why Use UNets for Diffusion?\n",
    "\n",
    "Before building our first model, the **Simple Convolutional UNet**, let’s first understand why this architecture is essential for diffusion models. \n",
    "\n",
    "In the context of diffusion models, \"diffusion\" refers to a process inspired by natural phenomena — like how a drop of ink disperses in water until it is evenly distributed. In machine learning, this concept is mimicked by gradually adding noise to an image until it turns into pure random noise, similar to TV static. This is known as the **forward diffusion process**. The goal, however, is to reverse this process — step by step removing the noise to recover a meaningful image. This is the **reverse diffusion process**, and the neural network responsible for this denoising task is often a **UNet**.\n",
    "\n",
    "UNets are widely used for this purpose because they excel at image-to-image tasks, particularly **restoring details from noisy images**. Their **U-shaped architecture** consists of two key parts:\n",
    "\n",
    "1. **The downsampling path (encoder):** This progressively reduces the image size while extracting important features.\n",
    "2. **The upsampling path (decoder):** This reconstructs the image while preserving fine details.\n",
    "\n",
    "A crucial component of UNets is **skip connections**, which transfer detailed features from the encoder directly to corresponding layers in the decoder. These connections help the network retain high-frequency information, such as edges and textures, which are often lost during downsampling.\n",
    "\n",
    "(Basic Unit Architecture Diagram)\n",
    "\n",
    "While other architectures could be used, UNets have consistently proven to be highly effective at reversing the diffusion process and generating high-quality images.\n",
    "\n",
    "Interestingly, UNets were not originally developed for diffusion models or image generation. They were first introduced for **medical image segmentation**, where precise localization of structures (such as tumors in MRI scans) is critical. Their success in medical imaging, which requires balancing **contextual understanding** and **fine-detail preservation**, makes them an excellent choice for denoising in diffusion models.\n",
    "\n",
    "In our first model, **Model 1**, we will use a simplified UNet for **direct image prediction** — a stepping stone toward more advanced diffusion models.\n",
    "\n",
    "### Our Direct Image Prediction Approach\n",
    "\n",
    "To ease into the concepts behind diffusion models, **Model 1** takes a simplified approach: **direct image prediction**. Instead of fully implementing a diffusion model that gradually removes noise in multiple steps, we will train a **Convolutional UNet** to denoise an image in **a single forward pass**.\n",
    "\n",
    "It’s important to note that this is **not** a true diffusion model. Unlike traditional diffusion models, which iteratively refine an image by predicting noise at each step, this UNet directly predicts the clean version of a noisy MNIST digit in one go.\n",
    "\n",
    "Why start with this approach? \n",
    "\n",
    "1. **It simplifies the learning process.** By focusing solely on the UNet's architecture and training, we can avoid the complexities of diffusion schedulers and iterative sampling.\n",
    "2. **It establishes a useful baseline.** This basic denoising UNet allows us to compare performance as we transition to more sophisticated, iterative diffusion models."
   ]
  },
  {
   "cell_type": "markdown",
   "id": "e1112efd-c61d-4866-8322-88bf047c233d",
   "metadata": {},
   "source": [
    "## Building a Simple Convolutional UNet\n",
    "\n",
    "Now, let's construct **Model 1** — a **minimal yet functional UNet** that serves as the core of our direct image prediction approach.\n",
    "\n",
    "### **Network Architecture**\n",
    "Our **Convolutional UNet**, implemented as the `BasicUNet` class, follows the standard U-shape design, consisting of:\n",
    "\n",
    "- **A contracting path (encoder)**: This reduces spatial dimensions while capturing important features through a series of convolutional layers and downsampling operations.\n",
    "- **An expanding path (decoder)**: This restores the original image size using convolutional layers and upsampling, reconstructing the denoised image.\n",
    "- **Skip connections**: These directly pass feature information from the encoder to the decoder, preserving fine details during the upsampling process.\n",
    "\n",
    "Here's the PyTorch code for our BasicUNet class, implementing the simple convolutional UNet architecture we just described:"
   ]
  },
  {
   "cell_type": "code",
   "execution_count": 16,
   "id": "25b17100-3e56-4716-a66b-f0f140cf415d",
   "metadata": {},
   "outputs": [],
   "source": [
    "from torch import nn\n",
    "\n",
    "\n",
    "class BasicUNet(nn.Module):\n",
    "    \"\"\"A minimal UNet implementation.\"\"\"\n",
    "\n",
    "    def __init__(self, in_channels=1, out_channels=1):\n",
    "        super().__init__()\n",
    "        self.down_layers = nn.ModuleList(\n",
    "            [\n",
    "                nn.Conv2d(in_channels, 32, kernel_size=5, padding=2),\n",
    "                nn.Conv2d(32, 64, kernel_size=5, padding=2),\n",
    "                nn.Conv2d(64, 64, kernel_size=5, padding=2),\n",
    "            ]\n",
    "        )\n",
    "        self.up_layers = nn.ModuleList(\n",
    "            [\n",
    "                nn.Conv2d(64, 64, kernel_size=5, padding=2),\n",
    "                nn.Conv2d(64, 32, kernel_size=5, padding=2),\n",
    "                nn.Conv2d(32, out_channels, kernel_size=5, padding=2),\n",
    "            ]\n",
    "        )\n",
    "\n",
    "        # Use the SiLU activation function, which has been shown to work well\n",
    "        # due to different properties (smoothness, non-monotonicity, etc.).\n",
    "        self.act = nn.SiLU()\n",
    "        self.downscale = nn.MaxPool2d(2)\n",
    "        self.upscale = nn.Upsample(scale_factor=2)\n",
    "\n",
    "    def forward(self, x):\n",
    "        h = []\n",
    "        for i, l in enumerate(self.down_layers):\n",
    "            x = self.act(l(x))\n",
    "            if i < 2:  # For all but the third (final) down layer:\n",
    "                h.append(x)  # Storing output for skip connection\n",
    "                x = self.downscale(x)  # Downscale ready for the next layer\n",
    "\n",
    "        for i, l in enumerate(self.up_layers):\n",
    "            if i > 0:  # For all except the first up layer\n",
    "                x = self.upscale(x)  # Upscale\n",
    "                x += h.pop()  # Fetching stored output (skip connection)\n",
    "            x = self.act(l(x))\n",
    "\n",
    "        return x"
   ]
  },
  {
   "cell_type": "code",
   "execution_count": 30,
   "id": "5c6a3c6a-1066-4a4d-adbf-f8c8575ca40a",
   "metadata": {},
   "outputs": [
    {
     "name": "stdout",
     "output_type": "stream",
     "text": [
      "BasicUNet(\n",
      "  (down_layers): ModuleList(\n",
      "    (0): Conv2d(1, 32, kernel_size=(5, 5), stride=(1, 1), padding=(2, 2))\n",
      "    (1): Conv2d(32, 64, kernel_size=(5, 5), stride=(1, 1), padding=(2, 2))\n",
      "    (2): Conv2d(64, 64, kernel_size=(5, 5), stride=(1, 1), padding=(2, 2))\n",
      "  )\n",
      "  (up_layers): ModuleList(\n",
      "    (0): Conv2d(64, 64, kernel_size=(5, 5), stride=(1, 1), padding=(2, 2))\n",
      "    (1): Conv2d(64, 32, kernel_size=(5, 5), stride=(1, 1), padding=(2, 2))\n",
      "    (2): Conv2d(32, 1, kernel_size=(5, 5), stride=(1, 1), padding=(2, 2))\n",
      "  )\n",
      "  (act): SiLU()\n",
      "  (downscale): MaxPool2d(kernel_size=2, stride=2, padding=0, dilation=1, ceil_mode=False)\n",
      "  (upscale): Upsample(scale_factor=2.0, mode='nearest')\n",
      ")\n"
     ]
    },
    {
     "data": {
      "text/plain": [
       "=================================================================\n",
       "Layer (type:depth-idx)                   Param #\n",
       "=================================================================\n",
       "BasicUNet                                --\n",
       "├─ModuleList: 1-1                        --\n",
       "│    └─Conv2d: 2-1                       832\n",
       "│    └─Conv2d: 2-2                       51,264\n",
       "│    └─Conv2d: 2-3                       102,464\n",
       "├─ModuleList: 1-2                        --\n",
       "│    └─Conv2d: 2-4                       102,464\n",
       "│    └─Conv2d: 2-5                       51,232\n",
       "│    └─Conv2d: 2-6                       801\n",
       "├─SiLU: 1-3                              --\n",
       "├─MaxPool2d: 1-4                         --\n",
       "├─Upsample: 1-5                          --\n",
       "=================================================================\n",
       "Total params: 309,057\n",
       "Trainable params: 309,057\n",
       "Non-trainable params: 0\n",
       "================================================================="
      ]
     },
     "execution_count": 30,
     "metadata": {},
     "output_type": "execute_result"
    }
   ],
   "source": [
    "from torchinfo import summary\n",
    "\n",
    "# initialize the model\n",
    "model = BasicUNet()\n",
    "\n",
    "# print model info\n",
    "print(model)\n",
    "summary(model)"
   ]
  },
  {
   "cell_type": "markdown",
   "id": "530ac4e1-fd5f-40f9-8b1a-67dd50f97047",
   "metadata": {},
   "source": [
    "#### Explaining the Simple Conv UNet Code\n",
    "\n",
    "Let's break down the `BasicUNet` code step-by-step to understand its inner workings.\n",
    "\n",
    "We begin by defining our UNet as a Python class in PyTorch: `class BasicUNet(nn.Module):`. This line creates a class named `BasicUNet` that inherits from `nn.Module`.  In PyTorch, `nn.Module` is the foundational building block for all neural networks. By inheriting from it, `BasicUNet` gains essential neural network capabilities.\n",
    "\n",
    "Inside the `BasicUNet` class, we find the constructor: `def __init__(self, in_channels=1, out_channels=1):`. This special method, `__init__`, is executed when you create an instance of `BasicUNet`.  The parameters `in_channels=1` and `out_channels=1` are set here.  They specify that our UNet, by default, is designed to take single-channel grayscale images (like MNIST digits) as input and produce single-channel grayscale images as output. The line `super().__init__()` is vital; it calls the constructor of the parent class `nn.Module` to correctly set up the base neural network functionalities that `BasicUNet` inherits.\n",
    "\n",
    "Next, we define the encoder or downsampling path: `self.down_layers = nn.ModuleList([...])`. `self.down_layers` is an `nn.ModuleList`, which acts like a Python list but specifically designed to hold PyTorch neural network layers. Within `self.down_layers`, we define a sequence of three `nn.Conv2d` (2D Convolutional) layers:\n",
    "\n",
    "*   `nn.Conv2d(in_channels, 32, kernel_size=5, padding=2)`: This is the first convolutional layer of the encoder. `in_channels` (initially 1 for grayscale images) defines the number of input channels this layer expects. `32` is the number of output channels or feature maps that this layer will generate. `kernel_size=5` sets the size of the convolutional filter to 5x5 pixels, and `padding=2` adds padding around the input. This padding is used to maintain the spatial dimensions of the output feature map, ensuring it's the same size as the input.\n",
    "*   `nn.Conv2d(32, 64, kernel_size=5, padding=2)`: The second convolutional layer takes `32` input channels (the output from the previous layer) and outputs `64` channels, further increasing the network's capacity to learn complex features.\n",
    "*   `nn.Conv2d(64, 64, kernel_size=5, padding=2)`: The third convolutional layer takes `64` input channels and also outputs `64` channels. Notice how the number of feature channels increases in the encoder's initial layers. This is a common strategy in convolutional networks, allowing them to capture increasingly abstract and complex features as they go deeper.\n",
    "\n",
    "Similarly, we define the decoder or upsampling path: `self.up_layers = nn.ModuleList([...])`.  `self.up_layers`, also an `nn.ModuleList`, holds the convolutional layers for the decoder. It contains three `nn.Conv2d` layers that, in terms of channel numbers, mirror the encoder in reverse. In the `forward` pass (explained later), these layers will be used in conjunction with upsampling to reconstruct the image:\n",
    "\n",
    "*   `nn.Conv2d(64, 64, kernel_size=5, padding=2)`: The first convolutional layer in the decoder path.\n",
    "*   `nn.Conv2d(64, 32, kernel_size=5, padding=2)`: The second convolutional layer, reducing the number of feature channels back to 32.\n",
    "*   `nn.Conv2d(32, out_channels, kernel_size=5, padding=2)`: The final convolutional layer of the decoder. `out_channels` (which is 1 by default) ensures that the UNet outputs a single-channel grayscale image, consistent with the input.\n",
    "\n",
    "`self.act = nn.SiLU()`: This line defines `self.act` as the SiLU (Sigmoid Linear Unit) activation function. Activation functions are crucial for introducing non-linearity into neural networks, enabling them to learn complex, non-linear relationships in the data. The SiLU activation will be applied after each convolutional layer in the forward pass.\n",
    "\n",
    "`self.downscale = nn.MaxPool2d(2)`: Here, `self.downscale` is defined as a `MaxPool2d` layer with a kernel size of 2. Max pooling is a downsampling technique. It reduces the spatial dimensions of feature maps by dividing the image into 2x2 blocks and keeping only the maximum value from each block. This effectively halves the height and width of the feature maps, reducing spatial size while retaining important features.\n",
    "\n",
    "`self.upscale = nn.Upsample(scale_factor=2)`: This defines `self.upscale` as an `Upsample` layer with a `scale_factor=2`. Upsampling is the inverse of downsampling; it increases the spatial size of feature maps. In this case, it doubles the height and width using nearest-neighbor interpolation by default, effectively reversing the spatial reduction done by max pooling in the encoder.\n",
    "\n",
    "Finally, the `forward(self, x):` method defines the forward pass of the network – how input data `x` flows through the layers to produce an output.\n",
    "\n",
    "*   `h = []`: We initialize an empty list `h`. This list will serve as storage for intermediate feature maps from the encoder path. These stored feature maps will be used later for skip connections in the decoder.\n",
    "\n",
    "*   The first `for i, l in enumerate(self.down_layers):` loop iterates through the encoder's convolutional layers (`self.down_layers`).\n",
    "    *   `x = self.act(l(x))`: Inside the loop, for each convolutional layer `l`, we apply the layer to the current input `x` and then pass the result through the SiLU activation function (`self.act`). The output becomes the new `x`.\n",
    "    *   `if i < 2: h.append(x); x = self.downscale(x)`: For the first two encoder layers (where `i` is 0 or 1, meaning not for the last encoder layer), we perform two key actions:\n",
    "        *   `h.append(x)`: We store the output `x` of the activated convolutional layer into our skip connection list `h`. These stored feature maps from the encoder will be added to the decoder path later, enabling skip connections.\n",
    "        *   `x = self.downscale(x)`: We apply the `MaxPool2d` downsampling (`self.downscale`) to reduce the spatial dimensions of `x`, preparing it to be processed by the next layer in the encoder path.  Downsampling is not performed after the final encoder layer in this architecture.\n",
    "\n",
    "*   The second `for i, l in enumerate(self.up_layers):` loop iterates through the decoder's convolutional layers (`self.up_layers`).\n",
    "    *   `if i > 0: x = self.upscale(x); x += h.pop()`: For all decoder layers except the first one (`i > 0`), we perform the following:\n",
    "        *   `x = self.upscale(x)`: We upsample the feature map `x` using `self.upscale` to increase its spatial size, reversing the downsampling from the encoder.\n",
    "        *   `x += h.pop()`: We implement the skip connection here. `h.pop()` retrieves the *last* stored feature map from our skip connection list `h` (using `pop()` both accesses and removes the last element). We then add this retrieved feature map to the upsampled feature map `x`. This addition is the core of the skip connection, combining detailed features from the encoder with the upsampled features in the decoder to help preserve fine details during reconstruction.\n",
    "    *   `x = self.act(l(x))`: After the optional upsampling and skip connection (for layers after the first in the decoder), we apply the current decoder layer `l` (a `Conv2d` layer) and then the SiLU activation function (`self.act`).\n",
    "\n",
    "*   `return x`: Finally, the `forward` method returns the processed tensor `x`. This is the output of the UNet, representing the predicted denoised MNIST digit in our case."
   ]
  },
  {
   "cell_type": "markdown",
   "id": "da8bbc5a-6cf3-4b0a-8894-ad478a2ea450",
   "metadata": {},
   "source": [
    "## Training the Model\n",
    "\n",
    "Now that we have defined the **BasicUNet** architecture, the next step is to train it. For **Model 1**, we will follow a standard **supervised learning approach** to train the UNet to predict clean MNIST digits from noisy inputs. This involves defining a **loss function**, selecting an **optimizer**, and implementing a **training loop**.\n",
    "\n",
    "### Loss Function: Mean Squared Error (MSE)\n",
    "For this direct image prediction task, we use the **Mean Squared Error (MSE) loss**, implemented in PyTorch as `F.mse_loss` (from `torch.nn.functional`). MSE measures the average squared difference between the predicted image (output from the UNet) and the ground-truth clean image. By minimizing this loss, the model learns to generate outputs that closely match the original digits, ensuring pixel-wise accuracy.\n",
    "\n",
    "### Optimizer: Adam\n",
    "We use the **Adam optimizer** (`torch.optim.Adam`) with a **learning rate of 1e-3 (0.001)**. Adam is a widely used optimizer that adapts the learning rate for each parameter, making training more stable and efficient. The learning rate determines how much the model’s weights are adjusted at each step—**too high** may lead to instability, while **too low** may slow down convergence.\n",
    "\n",
    "### Training Process\n",
    "The model is trained for **5 epochs**, iterating through batches of MNIST images using `train_dataloader`. Within each epoch, the training loop performs the following steps:\n",
    "\n",
    "1. **Load a batch of clean MNIST images** from `train_dataloader` and move them to the computing device (GPU or CPU).\n",
    "2. **Generate noisy images** by adding **random noise** to the clean images. The noise level varies per image, controlled by a random `noise_amount` scalar.\n",
    "3. **Feed the noisy images into the UNet**, which predicts the corresponding denoised images.\n",
    "4. **Compute the MSE loss**, comparing the predicted images with the clean images.\n",
    "5. **Perform backpropagation** to compute gradients, indicating how each model parameter should be adjusted.\n",
    "6. **Update the model’s weights** using the Adam optimizer to minimize the loss.\n",
    "7. **Store the loss value** for tracking training progress.\n",
    "\n",
    "This process repeats for **5 epochs**, allowing the model to progressively improve its ability to denoise MNIST digits.\n",
    "\n",
    "After training, we **plot the loss curve** to visualize how the MSE loss evolves over time."
   ]
  },
  {
   "cell_type": "code",
   "execution_count": 32,
   "id": "831e0595-79e4-4e77-bd9f-b5ee50d722f0",
   "metadata": {},
   "outputs": [
    {
     "name": "stdout",
     "output_type": "stream",
     "text": [
      "device:  cuda\n"
     ]
    }
   ],
   "source": [
    "from torch.nn import functional as F\n",
    "from torch.optim import Adam\n",
    "import matplotlib.pyplot as plt\n",
    "\n",
    "# --- Check GPU Availability ---\n",
    "device = \"cuda\" if torch.cuda.is_available() else \"cpu\" # Use GPU if available, else CPU\n",
    "print(\"device: \", device)\n",
    "\n",
    "# --- Hyperparameters and Setup ---\n",
    "model = model.to(device)                             # Instantiate BasicUNet and move to device\n",
    "optimizer = Adam(model.parameters(), lr=1e-3)             # Initialize Adam optimizer\n",
    "losses = []                                                # Store loss values\n",
    "num_epochs = 5                                             # Number of training epochs"
   ]
  },
  {
   "cell_type": "code",
   "execution_count": 33,
   "id": "96ff233e-1ce6-4a38-921c-8bc60e8e75f5",
   "metadata": {},
   "outputs": [
    {
     "name": "stdout",
     "output_type": "stream",
     "text": [
      "Epoch 1/5 - Average Loss: 0.4622\n",
      "Epoch 2/5 - Average Loss: 0.4615\n",
      "Epoch 3/5 - Average Loss: 0.4593\n",
      "Epoch 4/5 - Average Loss: 0.4571\n",
      "Epoch 5/5 - Average Loss: 0.4565\n"
     ]
    }
   ],
   "source": [
    "# --- Training Loop ---\n",
    "for epoch in range(num_epochs):\n",
    "    for batch in train_dataloader:                         # Iterate over training batches\n",
    "        clean_images = batch[\"images\"].to(device)           # Load clean images\n",
    "\n",
    "        # Sample noise to add to the images\n",
    "        noise = torch.randn_like(clean_images).to(device)\n",
    "\n",
    "        # Sample amount of noise to add to the images\n",
    "        noise_amount = torch.rand(clean_images.shape[0]).to(device) \n",
    "        \n",
    "        # Add noise to the clean images according to the noise magnitude\n",
    "        noisy_images = corrupt(clean_images, noise, noise_amount) \n",
    "\n",
    "        predicted_images = model(noisy_images)             # Model predicts denoised images\n",
    "        loss = F.mse_loss(predicted_images, clean_images)  # Compute MSE loss\n",
    "\n",
    "        optimizer.zero_grad()                              # Clear previous gradients\n",
    "        loss.backward()                                    # Backpropagate\n",
    "        optimizer.step()                                   # Update model weights\n",
    "        losses.append(loss.item())                         # Store loss\n",
    "\n",
    "    # --- Print average loss per epoch ---\n",
    "    avg_loss = sum(losses[-len(train_dataloader):]) / len(train_dataloader)\n",
    "    print(f\"Epoch {epoch+1}/{num_epochs} - Average Loss: {avg_loss:.4f}\")"
   ]
  },
  {
   "cell_type": "code",
   "execution_count": 34,
   "id": "d72db71d-566b-4085-8af9-e1578f3bfc9f",
   "metadata": {},
   "outputs": [
    {
     "data": {
      "image/png": "[encoded data removed]",
      "text/plain": [
       "<Figure size 800x400 with 1 Axes>"
      ]
     },
     "metadata": {},
     "output_type": "display_data"
    }
   ],
   "source": [
    "# --- Plot Loss Curve ---\n",
    "plt.figure(figsize=(8, 4))\n",
    "plt.plot(losses)\n",
    "plt.xlabel(\"Iteration\")\n",
    "plt.ylabel(\"MSE Loss\")\n",
    "plt.title(\"Training Loss Curve (Model 1 - Direct Image Prediction)\")\n",
    "plt.show()"
   ]
  },
  {
   "cell_type": "code",
   "execution_count": null,
   "id": "5da724c1-8d13-4a69-baec-ccb3a858bec2",
   "metadata": {},
   "outputs": [],
   "source": []
  }
 ],
 "metadata": {
  "kernelspec": {
   "display_name": "Python 3 (ipykernel)",
   "language": "python",
   "name": "python3"
  },
  "language_info": {
   "codemirror_mode": {
    "name": "ipython",
    "version": 3
   },
   "file_extension": ".py",
   "mimetype": "text/x-python",
   "name": "python",
   "nbconvert_exporter": "python",
   "pygments_lexer": "ipython3",
   "version": "3.11.11"
  }
 },
 "nbformat": 4,
 "nbformat_minor": 5
}
