{
 "cells": [
  {
   "cell_type": "raw",
   "metadata": {
    "vscode": {
     "languageId": "raw"
    }
   },
   "source": [
    "---\n",
    "title: \"Unleash Your Creativity: A Rapid Prototyping App with Amazon Nova Canvas\"\n",
    "description: \"??\"\n",
    "date: '2025-01-26'\n",
    "image: images/2025-01-26-streamlit-bedrock-nova-app.jpg\n",
    "output-file: 2025-01-26-streamlit-bedrock-nova-app\n",
    "toc: true\n",
    "\n",
    "categories:\n",
    "- python\n",
    "- aws\n",
    "\n",
    "keyword:\n",
    "- Python\n",
    "- Web Development\n",
    "---"
   ]
  },
  {
   "cell_type": "markdown",
   "metadata": {},
   "source": [
    "![image source: Amazon Nova Canvas](images/2025-01-26-streamlit-bedrock-nova-app.jpg)"
   ]
  },
  {
   "cell_type": "markdown",
   "metadata": {},
   "source": [
    "## Introduction\n",
    "\n",
    "Amazon's Nova Canvas is a state-of-the-art foundation model that promises to democratize high-quality image generation. However, the complexities of these models can often be a barrier to entry. This post presents a practical solution: a Streamlit-based application that makes experimenting with Nova Canvas accessible to everyone. I will walk you through the features of this rapid prototype, which includes five powerful tools, encompassing text-to-image generation, conditional generation, background removal, inpainting, and outpainting. You can seamlessly explore the diverse capabilities of this potent technology and bring your creative visions to life."
   ]
  },
  {
   "cell_type": "markdown",
   "metadata": {},
   "source": [
    "### Environment Details"
   ]
  },
  {
   "cell_type": "code",
   "execution_count": 1,
   "metadata": {},
   "outputs": [
    {
     "name": "stdout",
     "output_type": "stream",
     "text": [
      "python==3.12.8\n",
      "streamlit==1.41.1\n"
     ]
    }
   ],
   "source": [
    "#| code-fold: true\n",
    "#| code-summary: \"Show the code\"\n",
    "\n",
    "from platform import python_version\n",
    "import streamlit\n",
    "\n",
    "print(\"python==\" + python_version())\n",
    "print(\"streamlit==\" + streamlit.__version__)"
   ]
  },
  {
   "cell_type": "markdown",
   "metadata": {},
   "source": [
    "::: {.callout-tip}\n",
    "## Code Samples\n",
    "\n",
    "All the code examples used in this post can be found on the GitHub repo [2025-01-21-streamlit-deployment-aws](https://github.com/hassaanbinaslam/2025-01-21-streamlit-deployment-aws)\n",
    "\n",
    ":::"
   ]
  },
  {
   "cell_type": "markdown",
   "metadata": {},
   "source": [
    "## Introducing Amazon Nova Canvas\n",
    "\n",
    "At the heart of our rapid prototyping app lies the power of Amazon Nova Canvas, a state-of-the-art foundation model designed for professional-grade image generation. Nova Canvas stands out for its ability to create high-fidelity images from both text prompts and existing images, enabling users to seamlessly translate their creative concepts into stunning visuals. This powerful model isn't just about generating images; it also provides sophisticated editing capabilities, allowing for precise modifications using text-based instructions. Furthermore, Nova Canvas is built with responsible AI practices in mind, incorporating built-in controls to support safe and ethical use of the technology. Whether you're looking to explore text-to-image generation, image editing, or various other image manipulations, Nova Canvas provides a versatile and powerful platform to do so."
   ]
  },
  {
   "cell_type": "markdown",
   "metadata": {},
   "source": [
    "## The Rapid Prototyping App: A Hands-On Playground\n",
    "\n",
    "To make exploring the power of Amazon Nova Canvas as easy and accessible as possible, I decided to build a rapid prototyping application using Streamlit. I chose Streamlit because it's incredibly efficient for quickly creating interactive web apps with minimal coding, making it the perfect tool for this project. My goal was to create a hands-on playground where you could directly experiment with Nova Canvas's capabilities, transforming your creative ideas into visual reality. This app isn't just for tech enthusiasts; I wanted it to be user-friendly, allowing anyone to explore AI-powered image generation and editing. The best part is that it's designed for easy sharing and deployment, so you can effortlessly share your experiments with your friends, or even deploy the app for wider access."
   ]
  }
 ],
 "metadata": {
  "kernelspec": {
   "display_name": "py312quart",
   "language": "python",
   "name": "python3"
  },
  "language_info": {
   "codemirror_mode": {
    "name": "ipython",
    "version": 3
   },
   "file_extension": ".py",
   "mimetype": "text/x-python",
   "name": "python",
   "nbconvert_exporter": "python",
   "pygments_lexer": "ipython3",
   "version": "3.12.8"
  }
 },
 "nbformat": 4,
 "nbformat_minor": 2
}
