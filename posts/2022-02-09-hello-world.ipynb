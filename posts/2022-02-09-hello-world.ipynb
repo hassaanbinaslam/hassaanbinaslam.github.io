{
 "cells": [
  {
   "cell_type": "raw",
   "metadata": {},
   "source": [
    "---\n",
    "aliases:\n",
    "- /fastpages/jupyter/2022/02/09/hello-world\n",
    "badges: true\n",
    "categories:\n",
    "- jupyter\n",
    "- fastpages\n",
    "date: '2022-02-09'\n",
    "description: Trying to check if everything is working as intended\n",
    "image: images/2022-02-09-hello-world.jpeg\n",
    "output-file: 2022-02-09-hello-world.html\n",
    "title: My First Blog Post from Jupyter Notebook\n",
    "toc: true\n",
    "\n",
    "---\n",
    "\n"
   ]
  },
  {
   "cell_type": "markdown",
   "metadata": {},
   "source": [
    "![](images/2022-02-09-hello-world.jpeg)"
   ]
  },
  {
   "cell_type": "markdown",
   "metadata": {},
   "source": [
    "Well, this is my first post using Jupyter notebook as a publishing medium. Besides this notebook, I am also using 'nbdev' library from FastAI as tooling to convert notebooks into static HTML pages. Once pushed to GitHub they will become new posts on my blog. I need to learn more about this setup, but it is looking very interesting."
   ]
  },
  {
   "cell_type": "code",
   "execution_count": 3,
   "metadata": {},
   "outputs": [
    {
     "name": "stdout",
     "output_type": "stream",
     "text": [
      "nbdev and fastpages from Fast.AI are so cool! \n"
     ]
    }
   ],
   "source": [
    "#| code-fold: show\n",
    "\n",
    "# I can also include some code directly into the blog post. No need for GitHub snippets.\n",
    "print(\"nbdev and fastpages from Fast.AI are so cool! \")"
   ]
  }
 ],
 "metadata": {
  "interpreter": {
   "hash": "1e915f0a29dc84041eaeb02b7b1a21c440e37a87b61d44d5e84a515737dc82bc"
  },
  "kernelspec": {
   "display_name": "Python 3.9.7 64-bit ('base': conda)",
   "language": "python",
   "name": "python3"
  },
  "language_info": {
   "codemirror_mode": {
    "name": "ipython",
    "version": 3
   },
   "file_extension": ".py",
   "mimetype": "text/x-python",
   "name": "python",
   "nbconvert_exporter": "python",
   "pygments_lexer": "ipython3",
   "version": "3.9.7"
  },
  "orig_nbformat": 4
 },
 "nbformat": 4,
 "nbformat_minor": 2
}
